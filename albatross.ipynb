{
 "cells": [
  {
   "cell_type": "markdown",
   "metadata": {},
   "source": [
    "# Analyzing an albatross wing\n",
    "by: Neil Sawhney\n",
    "\n",
    "<img src=\"albatross.png\" width=\"500\"/>\n",
    "<img src=\"airfoil.png\" width=\"500\"/>"
   ]
  },
  {
   "cell_type": "markdown",
   "metadata": {},
   "source": [
    "## Import the mean camber line from http://airfoiltools.com/airfoil/details?airfoil=goe173-il"
   ]
  },
  {
   "cell_type": "code",
   "execution_count": 1,
   "metadata": {},
   "outputs": [
    {
     "data": {
      "text/html": [
       "<div>\n",
       "<style scoped>\n",
       "    .dataframe tbody tr th:only-of-type {\n",
       "        vertical-align: middle;\n",
       "    }\n",
       "\n",
       "    .dataframe tbody tr th {\n",
       "        vertical-align: top;\n",
       "    }\n",
       "\n",
       "    .dataframe thead th {\n",
       "        text-align: right;\n",
       "    }\n",
       "</style>\n",
       "<table border=\"1\" class=\"dataframe\">\n",
       "  <thead>\n",
       "    <tr style=\"text-align: right;\">\n",
       "      <th></th>\n",
       "      <th>X(mm)</th>\n",
       "      <th>Y(mm)</th>\n",
       "    </tr>\n",
       "  </thead>\n",
       "  <tbody>\n",
       "    <tr>\n",
       "      <th>0</th>\n",
       "      <td>0.000</td>\n",
       "      <td>0.000000</td>\n",
       "    </tr>\n",
       "    <tr>\n",
       "      <th>1</th>\n",
       "      <td>1.241</td>\n",
       "      <td>0.978000</td>\n",
       "    </tr>\n",
       "    <tr>\n",
       "      <th>2</th>\n",
       "      <td>2.486</td>\n",
       "      <td>1.335821</td>\n",
       "    </tr>\n",
       "    <tr>\n",
       "      <th>3</th>\n",
       "      <td>4.978</td>\n",
       "      <td>2.261891</td>\n",
       "    </tr>\n",
       "    <tr>\n",
       "      <th>4</th>\n",
       "      <td>7.473</td>\n",
       "      <td>3.007482</td>\n",
       "    </tr>\n",
       "  </tbody>\n",
       "</table>\n",
       "</div>"
      ],
      "text/plain": [
       "   X(mm)     Y(mm)\n",
       "0  0.000  0.000000\n",
       "1  1.241  0.978000\n",
       "2  2.486  1.335821\n",
       "3  4.978  2.261891\n",
       "4  7.473  3.007482"
      ]
     },
     "metadata": {},
     "output_type": "display_data"
    }
   ],
   "source": [
    "import pandas as pd\n",
    "\n",
    "# Read the CSV file\n",
    "df = pd.read_csv(\"albatross_foil-camber_line.csv\")\n",
    "\n",
    "# Display the first 5 rows\n",
    "display(df.head())\n",
    "\n",
    "x_foil = df[\"X(mm)\"].tolist()\n",
    "y_foil = df[\"Y(mm)\"].tolist()"
   ]
  },
  {
   "cell_type": "markdown",
   "metadata": {},
   "source": [
    "## Interpolate the data into a function so that we can keep things analytical and symbolic"
   ]
  },
  {
   "cell_type": "code",
   "execution_count": 2,
   "metadata": {},
   "outputs": [
    {
     "data": {
      "text/markdown": [
       "$y(x) = \\begin{cases} 0.0757438198145068 x^{3} - 0.48369211108273 x^{2} + 1.27168442585302 x & \\text{for}\\: x \\geq 0 \\wedge x \\leq 2.486 \\\\- 0.0164005768176812 x^{3} + 0.203520799000128 x^{2} - 0.436726868612968 x + 1.41570349268081 & \\text{for}\\: x \\geq 2.486 \\wedge x \\leq 4.978 \\\\0.0051175805847793 x^{3} - 0.117831363648218 x^{2} + 1.16296419705049 x - 1.23871721561009 & \\text{for}\\: x \\geq 4.978 \\wedge x \\leq 7.473 \\\\- 0.000365930224799395 x^{3} + 0.00510346519172705 x^{2} + 0.244272221129586 x + 1.0497444964089 & \\text{for}\\: x \\geq 7.473 \\wedge x \\leq 9.968 \\\\- 0.000199278194540061 x^{3} + 0.000119902878852579 x^{2} + 0.293948370264324 x + 0.884687211550524 & \\text{for}\\: x \\geq 9.968 \\wedge x \\leq 14.962 \\\\0.000245238196808445 x^{3} - 0.0198326598632167 x^{2} + 0.592478614011156 x - 0.604182624096177 & \\text{for}\\: x \\geq 14.962 \\wedge x \\leq 19.958 \\\\0.00012274930637512 x^{3} - 0.0124987600374118 x^{2} + 0.446108641287747 x + 0.369568014441756 & \\text{for}\\: x \\geq 19.958 \\wedge x \\leq 29.956 \\\\- 3.90384183972492 \\cdot 10^{-5} x^{3} + 0.00204077921243152 x^{2} + 0.0105622035194419 x + 4.71864437770423 & \\text{for}\\: x \\geq 29.956 \\wedge x \\leq 39.956 \\\\2.88369943703519 \\cdot 10^{-5} x^{3} - 0.00609531076519523 x^{2} + 0.335647814665496 x + 0.388937484720252 & \\text{for}\\: x \\geq 39.956 \\wedge x \\leq 49.96 \\\\1.873961567553 \\cdot 10^{-5} x^{3} - 0.0045819156464153 x^{2} + 0.260038594531253 x + 1.64808303068919 & \\text{for}\\: x \\geq 49.96 \\wedge x \\leq 59.965 \\\\2.10662735920923 \\cdot 10^{-5} x^{3} - 0.00500046977231526 x^{2} + 0.28513719269084 x + 1.14640388447584 & \\text{for}\\: x \\geq 59.965 \\wedge x \\leq 69.972 \\\\6.97096097190038 \\cdot 10^{-6} x^{3} - 0.00204163812833513 x^{2} + 0.0781018248982628 x + 5.97529680286998 & \\text{for}\\: x \\geq 69.972 \\wedge x \\leq 79.98 \\\\- 1.90634019269676 \\cdot 10^{-5} x^{3} + 0.00420504690561922 x^{2} - 0.421508044117408 x + 19.2948959108278 & \\text{for}\\: x \\geq 79.98 \\wedge x \\leq 89.989 \\\\- 0.000149790157233174 x^{3} + 0.0394969568553698 x^{2} - 3.59739172858552 x + 114.559761538028 & \\text{for}\\: x \\geq 89.989 \\wedge x \\leq 100.0 \\end{cases}$"
      ],
      "text/plain": [
       "<IPython.core.display.Markdown object>"
      ]
     },
     "metadata": {},
     "output_type": "display_data"
    },
    {
     "data": {
      "image/png": "[encoded data removed]",
      "text/plain": [
       "<Figure size 640x480 with 1 Axes>"
      ]
     },
     "metadata": {},
     "output_type": "display_data"
    },
    {
     "data": {
      "text/plain": [
       "<sympy.plotting.plot.Plot at 0x7f5729d2fb10>"
      ]
     },
     "execution_count": 2,
     "metadata": {},
     "output_type": "execute_result"
    }
   ],
   "source": [
    "import sympy as sp\n",
    "from IPython.display import Markdown\n",
    "\n",
    "alpha, theta, x = sp.symbols(\"alpha, theta, x\")\n",
    "chord_length_data = 100 # mm\n",
    "\n",
    "# Construct an interpolating polynomial for x_foil and y_foil\n",
    "y_func_x = sp.interpolating_spline(3, x, x_foil, y_foil)\n",
    "display(Markdown(\"$y(x) = \" + sp.latex(y_func_x) + \"$\"))\n",
    "sp.plot(y_func_x, (x, 0, chord_length_data), ylabel=\"y(x)\")"
   ]
  },
  {
   "cell_type": "markdown",
   "metadata": {},
   "source": [
    "## Now let's get derivatives and do a variable substitution to get the function in terms of $\\theta$ instead of x"
   ]
  },
  {
   "cell_type": "code",
   "execution_count": 3,
   "metadata": {},
   "outputs": [
    {
     "data": {
      "text/markdown": [
       "$\\frac{dy}{dx}(\\theta) = \\begin{cases} 568.078648608801 \\left(1 - \\cos{\\left(\\theta \\right)}\\right)^{2} + 48.369211108273 \\cos{\\left(\\theta \\right)} - 47.09752668242 & \\text{for}\\: 50.0 \\cos{\\left(\\theta \\right)} - 50.0 \\geq -2.486 \\wedge 50.0 \\cos{\\left(\\theta \\right)} - 50.0 \\leq 0 \\\\- 123.004326132609 \\left(1 - \\cos{\\left(\\theta \\right)}\\right)^{2} - 20.3520799000128 \\cos{\\left(\\theta \\right)} + 19.9153530313998 & \\text{for}\\: 50.0 \\cos{\\left(\\theta \\right)} - 50.0 \\geq -4.978 \\wedge 50.0 \\cos{\\left(\\theta \\right)} - 50.0 \\leq -2.486 \\\\38.3818543858447 \\left(1 - \\cos{\\left(\\theta \\right)}\\right)^{2} + 11.7831363648218 \\cos{\\left(\\theta \\right)} - 10.6201721677713 & \\text{for}\\: 50.0 \\cos{\\left(\\theta \\right)} - 50.0 \\geq -7.473 \\wedge 50.0 \\cos{\\left(\\theta \\right)} - 50.0 \\leq -4.978 \\\\- 2.74447668599546 \\left(1 - \\cos{\\left(\\theta \\right)}\\right)^{2} - 0.510346519172705 \\cos{\\left(\\theta \\right)} + 0.754618740302291 & \\text{for}\\: 50.0 \\cos{\\left(\\theta \\right)} - 50.0 \\geq -9.968 \\wedge 50.0 \\cos{\\left(\\theta \\right)} - 50.0 \\leq -7.473 \\\\- 1.49458645905046 \\left(1 - \\cos{\\left(\\theta \\right)}\\right)^{2} - 0.0119902878852579 \\cos{\\left(\\theta \\right)} + 0.305938658149582 & \\text{for}\\: 50.0 \\cos{\\left(\\theta \\right)} - 50.0 \\geq -14.962 \\wedge 50.0 \\cos{\\left(\\theta \\right)} - 50.0 \\leq -9.968 \\\\1.83928647606334 \\left(1 - \\cos{\\left(\\theta \\right)}\\right)^{2} + 1.98326598632167 \\cos{\\left(\\theta \\right)} - 1.39078737231051 & \\text{for}\\: 50.0 \\cos{\\left(\\theta \\right)} - 50.0 \\geq -19.958 \\wedge 50.0 \\cos{\\left(\\theta \\right)} - 50.0 \\leq -14.962 \\\\0.9206197978134 \\left(1 - \\cos{\\left(\\theta \\right)}\\right)^{2} + 1.24987600374118 \\cos{\\left(\\theta \\right)} - 0.803767362453429 & \\text{for}\\: 50.0 \\cos{\\left(\\theta \\right)} - 50.0 \\geq -29.956 \\wedge 50.0 \\cos{\\left(\\theta \\right)} - 50.0 \\leq -19.958 \\\\- 0.292788137979369 \\left(1 - \\cos{\\left(\\theta \\right)}\\right)^{2} - 0.204077921243152 \\cos{\\left(\\theta \\right)} + 0.214640124762594 & \\text{for}\\: 50.0 \\cos{\\left(\\theta \\right)} - 50.0 \\geq -39.956 \\wedge 50.0 \\cos{\\left(\\theta \\right)} - 50.0 \\leq -29.956 \\\\0.216277457777639 \\left(1 - \\cos{\\left(\\theta \\right)}\\right)^{2} + 0.609531076519523 \\cos{\\left(\\theta \\right)} - 0.273883261854027 & \\text{for}\\: 50.0 \\cos{\\left(\\theta \\right)} - 50.0 \\geq -49.96 \\wedge 50.0 \\cos{\\left(\\theta \\right)} - 50.0 \\leq -39.956 \\\\0.140547117566475 \\left(1 - \\cos{\\left(\\theta \\right)}\\right)^{2} + 0.45819156464153 \\cos{\\left(\\theta \\right)} - 0.198152970110277 & \\text{for}\\: 50.0 \\cos{\\left(\\theta \\right)} - 50.0 \\geq -59.965 \\wedge 50.0 \\cos{\\left(\\theta \\right)} - 50.0 \\leq -49.96 \\\\0.157997051940692 \\left(1 - \\cos{\\left(\\theta \\right)}\\right)^{2} + 0.500046977231526 \\cos{\\left(\\theta \\right)} - 0.214909784540686 & \\text{for}\\: 50.0 \\cos{\\left(\\theta \\right)} - 50.0 \\geq -69.972 \\wedge 50.0 \\cos{\\left(\\theta \\right)} - 50.0 \\leq -59.965 \\\\0.0522822072892529 \\left(1 - \\cos{\\left(\\theta \\right)}\\right)^{2} + 0.204163812833513 \\cos{\\left(\\theta \\right)} - 0.12606198793525 & \\text{for}\\: 50.0 \\cos{\\left(\\theta \\right)} - 50.0 \\geq -79.98 \\wedge 50.0 \\cos{\\left(\\theta \\right)} - 50.0 \\leq -69.972 \\\\- 0.142975514452257 \\left(1 - \\cos{\\left(\\theta \\right)}\\right)^{2} - 0.420504690561922 \\cos{\\left(\\theta \\right)} - 0.00100335355548548 & \\text{for}\\: 50.0 \\cos{\\left(\\theta \\right)} - 50.0 \\geq -89.989 \\wedge 50.0 \\cos{\\left(\\theta \\right)} - 50.0 \\leq -79.98 \\\\- 1.1234261792488 \\left(1 - \\cos{\\left(\\theta \\right)}\\right)^{2} - 3.94969568553698 \\cos{\\left(\\theta \\right)} + 0.352303956951467 & \\text{for}\\: 50.0 \\cos{\\left(\\theta \\right)} - 50.0 \\geq -100.0 \\wedge 50.0 \\cos{\\left(\\theta \\right)} - 50.0 \\leq -89.989 \\end{cases}$"
      ],
      "text/plain": [
       "<IPython.core.display.Markdown object>"
      ]
     },
     "metadata": {},
     "output_type": "display_data"
    },
    {
     "data": {
      "image/png": "[encoded data removed]",
      "text/plain": [
       "<Figure size 640x480 with 1 Axes>"
      ]
     },
     "metadata": {},
     "output_type": "display_data"
    },
    {
     "data": {
      "text/plain": [
       "<sympy.plotting.plot.Plot at 0x7f572893ccd0>"
      ]
     },
     "execution_count": 3,
     "metadata": {},
     "output_type": "execute_result"
    }
   ],
   "source": [
    "# Differentiate y_func_x with respect to x\n",
    "dydx_func_x = y_func_x.diff(x)\n",
    "\n",
    "# Variable substitution from x to theta\n",
    "dydx_func_theta = dydx_func_x.subs(x, chord_length_data / 2 * (1 - sp.cos(theta)))\n",
    "display(Markdown(\"$\\\\frac{dy}{dx}(\\\\theta) = \" + sp.latex(dydx_func_theta) + \"$\"))\n",
    "sp.plot(dydx_func_theta, (theta, 0, chord_length_data), ylabel=\"dy/dx\")"
   ]
  },
  {
   "cell_type": "markdown",
   "metadata": {},
   "source": [
    "## Now we can get the lift coefficient!"
   ]
  },
  {
   "cell_type": "code",
   "execution_count": 4,
   "metadata": {},
   "outputs": [
    {
     "data": {
      "text/markdown": [
       "$C_l = 6.28318530717959 \\alpha + 0.63959809779726$"
      ],
      "text/plain": [
       "<IPython.core.display.Markdown object>"
      ]
     },
     "metadata": {},
     "output_type": "display_data"
    }
   ],
   "source": [
    "# Calculate the lift coefficient\n",
    "coeff_lift_albatross = (\n",
    "    2\n",
    "    * sp.pi\n",
    "    * (\n",
    "        alpha\n",
    "        + (1 / sp.pi)\n",
    "        * sp.integrate(dydx_func_theta * (sp.cos(theta) - 1), (theta, 0, sp.pi))\n",
    "    )\n",
    ").evalf()\n",
    "\n",
    "# Display the equation\n",
    "display(Markdown(\"$C_l = \" + sp.latex(coeff_lift_albatross) + \"$\"))"
   ]
  },
  {
   "cell_type": "markdown",
   "metadata": {},
   "source": [
    "## Calculate lift for a speed v, with a span of b, chord_length of c, through air with density $\\rho$"
   ]
  },
  {
   "cell_type": "code",
   "execution_count": 5,
   "metadata": {},
   "outputs": [
    {
     "data": {
      "text/markdown": [
       "$L = \\frac{C_{l} b c \\rho u_{\\infty}^{2}}{2}$"
      ],
      "text/plain": [
       "<IPython.core.display.Markdown object>"
      ]
     },
     "metadata": {},
     "output_type": "display_data"
    }
   ],
   "source": [
    "cruising_velocity, span_length, density, chord_length, coeff_lift = sp.symbols(\"u_{\\\\infty}, b, rho, c, C_l\")\n",
    "\n",
    "# Calculate the lift\n",
    "lift = sp.Rational(1, 2) * density * cruising_velocity ** 2 * span_length * chord_length * coeff_lift\n",
    "display(Markdown(\"$L = \" + sp.latex(lift) + \"$\"))"
   ]
  },
  {
   "cell_type": "markdown",
   "metadata": {},
   "source": [
    "## Find the angle of attack at steady altitude ($\\alpha_0$)"
   ]
  },
  {
   "cell_type": "code",
   "execution_count": 6,
   "metadata": {},
   "outputs": [
    {
     "data": {
      "text/markdown": [
       "$\\alpha_0 = \\frac{0.31830988618379 W}{b c \\rho u_{\\infty}^{2}} - 0.101795198856607$"
      ],
      "text/plain": [
       "<IPython.core.display.Markdown object>"
      ]
     },
     "metadata": {},
     "output_type": "display_data"
    }
   ],
   "source": [
    "albatross_weight = sp.symbols(\"W\")\n",
    "\n",
    "# Find the angle of attack at steady altitude\n",
    "alpha_0 = sp.solve((lift - albatross_weight).subs(coeff_lift, coeff_lift_albatross), alpha, dict=True)[0][alpha]\n",
    "display(Markdown(\"$\\\\alpha_0 = \" + sp.latex(alpha_0) + \"$\"))"
   ]
  },
  {
   "cell_type": "markdown",
   "metadata": {},
   "source": [
    "## Evaluating for properties of an Albatross moving at cruising speed"
   ]
  },
  {
   "cell_type": "code",
   "execution_count": 7,
   "metadata": {},
   "outputs": [
    {
     "data": {
      "text/markdown": [
       "$\\alpha_0 = -2.59^\\circ $"
      ],
      "text/plain": [
       "<IPython.core.display.Markdown object>"
      ]
     },
     "metadata": {},
     "output_type": "display_data"
    }
   ],
   "source": [
    "albatross_data = {\n",
    "    \"W\": 8*9.81,  # N\n",
    "    \"u_{\\\\infty}\": 20,  # m/s\n",
    "    \"b\": 3,  # m\n",
    "    \"rho\": 1.225,  # kg/m^3\n",
    "    \"c\": 0.3,  # m\n",
    "    \"C_l\": coeff_lift_albatross,\n",
    "}\n",
    "\n",
    "\n",
    "def radians_to_degrees(radians):\n",
    "    return 180 / sp.pi * radians\n",
    "\n",
    "\n",
    "def degrees_to_radians(degrees):\n",
    "    return sp.pi / 180 * degrees\n",
    "\n",
    "\n",
    "# Compute the angle of attack at steady altitude in degrees\n",
    "alpha_0_albatross = radians_to_degrees(alpha_0).evalf(subs=albatross_data)\n",
    "display(Markdown(\"$\\\\alpha_0 = \" + sp.latex(round(alpha_0_albatross, 2)) + \"^\\\\circ $\"))"
   ]
  },
  {
   "cell_type": "markdown",
   "metadata": {},
   "source": [
    "## Lets compare the lift to a small aircraft with a 50 mph cruise speed, 6 ft span, and 1 ft chord length, using the NACA 4412 airfoil at 2 degrees angle of attack"
   ]
  },
  {
   "cell_type": "code",
   "execution_count": 8,
   "metadata": {},
   "outputs": [
    {
     "data": {
      "text/markdown": [
       "Albatross: $L = 189.39 N$"
      ],
      "text/plain": [
       "<IPython.core.display.Markdown object>"
      ]
     },
     "metadata": {},
     "output_type": "display_data"
    },
    {
     "data": {
      "text/markdown": [
       "Aircraft: $L = 4332.52 N$"
      ],
      "text/plain": [
       "<IPython.core.display.Markdown object>"
      ]
     },
     "metadata": {},
     "output_type": "display_data"
    }
   ],
   "source": [
    "aircraft_data = {\n",
    "    \"u_{\\\\infty}\": 22.352,  # m/s\n",
    "    \"b\": 1.8288,  # m\n",
    "    \"rho\": 1.225,  # kg/m^3\n",
    "    \"c\": 0.3048,  # m\n",
    "    \"C_l\": 6.28 * degrees_to_radians(2) + 25.18,\n",
    "}\n",
    "\n",
    "# Compute the lift at a 2 degree angle of attack for the albatross\n",
    "lift_albatross = lift.subs(albatross_data).subs(alpha, degrees_to_radians(2)).evalf()\n",
    "display(Markdown(\"Albatross: $L = \" + sp.latex(round(lift_albatross, 2)) + \" N$\"))\n",
    "\n",
    "# Compute the lift at a 2 degree angle of attack for the aircraft\n",
    "lift_aircraft = lift.subs(aircraft_data).subs(alpha, degrees_to_radians(2)).evalf()\n",
    "display(Markdown(\"Aircraft: $L = \" + sp.latex(round(lift_aircraft, 2)) + \" N$\"))"
   ]
  },
  {
   "cell_type": "markdown",
   "metadata": {},
   "source": [
    "Airfoil wing area S, span b, aspect ratio AR, chord vs. position (c(y)), twist distribution, lift to drag slope m and zero lift angle of attack are obtained / estimated from http://airfoiltools.com/airfoil/details?airfoil=goe173-il."
   ]
  },
  {
   "cell_type": "code",
   "execution_count": 9,
   "metadata": {},
   "outputs": [],
   "source": [
    "import sympy as sp\n",
    "from IPython.display import display, Markdown\n",
    "\n",
    "(\n",
    "    b_span,  # chord length\n",
    "    V_infty,  # free stream velocity\n",
    "    theta_0,  # specific spanwise coordinate parameter\n",
    "    alpha,  # geometric AOA\n",
    "    AR,  # aspect ratio\n",
    "    S,  # planiform area\n",
    ") = sp.symbols(\"b_{span}, V_{\\\\infty}, \\\\theta_{0}, \\\\alpha, AR, S\")\n",
    "\n",
    "vals = {\n",
    "    b_span : 3.1,  # (meter)\n",
    "    V_infty : 20,  # (meter/second)\n",
    "    S : 2*.336,  # (meter^2) \n",
    "}\n",
    "\n",
    "derived_vals = {\n",
    "    AR : (b_span**2/S).subs(vals),  \n",
    "}\n",
    "vals.update(derived_vals)"
   ]
  },
  {
   "cell_type": "code",
   "execution_count": 10,
   "metadata": {},
   "outputs": [
    {
     "data": {
      "text/markdown": [
       "$\\left\\{ AR : 14.3005952380952, \\  S : 0.672, \\  V_{\\infty} : 20, \\  \\alpha_{a} : -0.0141, \\  b_{span} : 3.1, \\  m_{0} : 5.729\\right\\}$"
      ],
      "text/plain": [
       "<IPython.core.display.Markdown object>"
      ]
     },
     "metadata": {},
     "output_type": "display_data"
    }
   ],
   "source": [
    "(\n",
    "    c,  # chord length (m)\n",
    "    m_0,  # section lift slope (1/rad)\n",
    "    alpha_abs,  # absolute angle of attack [alpha - alpha_L0] (radians)\n",
    ") = sp.symbols(\"c, m_0, \\\\alpha_{a}\")\n",
    "\n",
    "wing_vals = {\n",
    "    # c : (3 + (b_span/8) * sp.cos(theta_0)).subs(vals),  # (meter)\n",
    "    m_0 : (5.729),  # (1/rad)\n",
    "    # alpha_abs : (-.1013 + .14 + .0872),  # (radian)\n",
    "    alpha_abs : (-.1013 + .0872),  # (radian)\n",
    "}\n",
    "vals.update(wing_vals)\n",
    "display(\n",
    "    Markdown(\n",
    "        f'${sp.latex(vals)}$'\n",
    "    )\n",
    ")"
   ]
  },
  {
   "cell_type": "code",
   "execution_count": 11,
   "metadata": {},
   "outputs": [
    {
     "data": {
      "text/latex": [
       "$\\displaystyle \\alpha_{a} = A_{1} \\cdot \\left(\\frac{4 b_{span} \\sin{\\left(\\theta_{0} \\right)}}{c m_{0}} + 1\\right) + A_{2} \\cdot \\left(\\frac{4 b_{span} \\sin{\\left(2 \\theta_{0} \\right)}}{c m_{0}} + \\frac{2 \\sin{\\left(2 \\theta_{0} \\right)}}{\\sin{\\left(\\theta_{0} \\right)}}\\right) + A_{3} \\cdot \\left(\\frac{4 b_{span} \\sin{\\left(3 \\theta_{0} \\right)}}{c m_{0}} + \\frac{3 \\sin{\\left(3 \\theta_{0} \\right)}}{\\sin{\\left(\\theta_{0} \\right)}}\\right)$"
      ],
      "text/plain": [
       "Eq(\\alpha_{a}, A_1*(4*b_{span}*sin(\\theta_{0})/(c*m_0) + 1) + A_2*(4*b_{span}*sin(2*\\theta_{0})/(c*m_0) + 2*sin(2*\\theta_{0})/sin(\\theta_{0})) + A_3*(4*b_{span}*sin(3*\\theta_{0})/(c*m_0) + 3*sin(3*\\theta_{0})/sin(\\theta_{0})))"
      ]
     },
     "metadata": {},
     "output_type": "display_data"
    }
   ],
   "source": [
    "(\n",
    "    A_1,\n",
    "    A_2,\n",
    "    A_3,\n",
    ") = sp.symbols(\"A_1, A_2, A_3\")\n",
    "\n",
    "A_n_eq = sp.Eq(\n",
    "    alpha_abs,\n",
    "    ((4 * b_span * sp.sin(theta_0)) / (m_0 * c) + 1) * A_1\n",
    "    + (\n",
    "        ((4 * b_span * sp.sin(2 * theta_0)) / (m_0 * c))\n",
    "        + 2 * ((sp.sin(2 * theta_0)) / (sp.sin(theta_0)))\n",
    "    )\n",
    "    * A_2\n",
    "    + (\n",
    "        ((4 * b_span * sp.sin(3 * theta_0)) / (m_0 * c))\n",
    "        + 3 * ((sp.sin(3 * theta_0)) / (sp.sin(theta_0)))\n",
    "    )\n",
    "    * A_3\n",
    ")\n",
    "\n",
    "display(A_n_eq)"
   ]
  },
  {
   "cell_type": "code",
   "execution_count": 12,
   "metadata": {},
   "outputs": [
    {
     "data": {
      "text/markdown": [
       "$A_{1} = -0.148620074888356$"
      ],
      "text/plain": [
       "<IPython.core.display.Markdown object>"
      ]
     },
     "metadata": {},
     "output_type": "display_data"
    },
    {
     "data": {
      "text/markdown": [
       "$A_{2} = -0.106095834055294$"
      ],
      "text/plain": [
       "<IPython.core.display.Markdown object>"
      ]
     },
     "metadata": {},
     "output_type": "display_data"
    },
    {
     "data": {
      "text/markdown": [
       "$A_{3} = -0.0300460068456091$"
      ],
      "text/plain": [
       "<IPython.core.display.Markdown object>"
      ]
     },
     "metadata": {},
     "output_type": "display_data"
    }
   ],
   "source": [
    "A_n_sol = sp.solve(\n",
    "    [\n",
    "        A_n_eq.subs(vals).subs(\n",
    "            {\n",
    "                theta_0 : 2.288,\n",
    "                c : 642.33e-3\n",
    "            }\n",
    "        ),\n",
    "        A_n_eq.subs(vals).subs(\n",
    "            {\n",
    "                theta_0 : 2.836,\n",
    "                c : 512.53e-3\n",
    "            }\n",
    "        ),\n",
    "        A_n_eq.subs(vals).subs(\n",
    "            {\n",
    "                theta_0 : 2.870,\n",
    "                c : 499.97e-3\n",
    "            }\n",
    "        ),\n",
    "    ],\n",
    "    [A_1, A_2, A_3],\n",
    "    dict=True,\n",
    ")[0]\n",
    "\n",
    "vals[A_1] = A_n_sol[A_1]\n",
    "vals[A_2] = A_n_sol[A_2]\n",
    "vals[A_3] = A_n_sol[A_3]\n",
    "\n",
    "display(\n",
    "    Markdown(\n",
    "        f'${sp.latex(A_1)} = {sp.latex(A_1.subs(vals))}$'\n",
    "    )\n",
    ")\n",
    "\n",
    "display(\n",
    "    Markdown(\n",
    "        f'${sp.latex(A_2)} = {sp.latex(A_2.subs(vals))}$'\n",
    "    )\n",
    ")\n",
    "\n",
    "display(\n",
    "    Markdown(\n",
    "        f'${sp.latex(A_3)} = {sp.latex(A_3.subs(vals))}$'\n",
    "    )\n",
    ")"
   ]
  },
  {
   "cell_type": "markdown",
   "metadata": {},
   "source": [
    "## Calculate $\\delta$"
   ]
  },
  {
   "cell_type": "code",
   "execution_count": 13,
   "metadata": {},
   "outputs": [
    {
     "data": {
      "text/markdown": [
       "$e = \\frac{1}{\\delta + 1} = 0.466887676894223$"
      ],
      "text/plain": [
       "<IPython.core.display.Markdown object>"
      ]
     },
     "metadata": {},
     "output_type": "display_data"
    }
   ],
   "source": [
    "(\n",
    "    delta,\n",
    "    efficiency,\n",
    ") = sp.symbols(\"\\\\delta, e\")\n",
    "\n",
    "efficiency_vals = {\n",
    "    delta : (2*(A_2/A_1)**2 + 3*(A_3/A_1)**2).subs(vals)\n",
    "}\n",
    "vals.update(efficiency_vals)\n",
    "\n",
    "efficiency_expr = 1/(1+delta)\n",
    "vals[efficiency] = efficiency_expr.subs(vals)\n",
    "\n",
    "display(\n",
    "    Markdown(\n",
    "        f'${sp.latex(efficiency)} = {sp.latex(efficiency_expr)} = {sp.latex(efficiency.subs(vals))}$'\n",
    "    )\n",
    ")"
   ]
  },
  {
   "cell_type": "markdown",
   "metadata": {},
   "source": [
    "## Calculate $C_L, C_{D,i}$"
   ]
  },
  {
   "cell_type": "code",
   "execution_count": 14,
   "metadata": {},
   "outputs": [
    {
     "data": {
      "text/markdown": [
       "$C_{D,i} = \\frac{C_{L}^{2} \\left(\\delta + 1\\right)}{\\pi AR} = 0.676544947410097 \\pi$"
      ],
      "text/plain": [
       "<IPython.core.display.Markdown object>"
      ]
     },
     "metadata": {},
     "output_type": "display_data"
    }
   ],
   "source": [
    "(\n",
    "    C_L,\n",
    "    C_D_induced,\n",
    ") = sp.symbols(\"C_L, C_{D\\,i}\")\n",
    "\n",
    "drag_coeff_vals = {\n",
    "    C_L : (A_1 * sp.pi * AR).subs(vals),\n",
    "}\n",
    "vals.update(drag_coeff_vals)\n",
    "\n",
    "C_D_induced_exprs = (C_L**2 * (1+delta)) / (sp.pi*AR)\n",
    "vals[C_D_induced] = C_D_induced_exprs.subs(vals)\n",
    "\n",
    "display(\n",
    "    Markdown(\n",
    "        f'${sp.latex(C_D_induced)} = {sp.latex(C_D_induced_exprs)} = {sp.latex(C_D_induced.subs(vals))}$'\n",
    "    )\n",
    ")"
   ]
  },
  {
   "cell_type": "markdown",
   "metadata": {},
   "source": [
    "## Calculate $D_i$"
   ]
  },
  {
   "cell_type": "code",
   "execution_count": 15,
   "metadata": {},
   "outputs": [
    {
     "data": {
      "text/markdown": [
       "$D_{i} = C_{D,i} S q_{\\infty} = 0.36935528812663$"
      ],
      "text/plain": [
       "<IPython.core.display.Markdown object>"
      ]
     },
     "metadata": {},
     "output_type": "display_data"
    }
   ],
   "source": [
    "(\n",
    "    rho_air,\n",
    "    q_infty,\n",
    "    D_induced,\n",
    ") =  sp.symbols(\"rho_{air}, q_{\\\\infty}, D_{i}\")\n",
    "\n",
    "drag_vals = {\n",
    "    rho_air : 1.293e-3,  # (kg/meter^3)\n",
    "    q_infty : .5 * rho_air * V_infty**2,  # (kg/(meter*second^2))\n",
    "}\n",
    "vals.update(drag_vals)\n",
    "\n",
    "D_induced_exprs = C_D_induced * q_infty * S\n",
    "vals[D_induced] = D_induced_exprs.subs(vals)\n",
    "\n",
    "display(\n",
    "    Markdown(\n",
    "        f'${sp.latex(D_induced)} = {sp.latex(D_induced_exprs)} = {sp.latex(D_induced.subs(vals).evalf())}$'\n",
    "    )\n",
    ")\n"
   ]
  },
  {
   "cell_type": "markdown",
   "metadata": {},
   "source": [
    "# Induced Drag Results\n",
    "- 0 deg AOA\n",
    "    - .37 Newtons\n",
    "- 8 deg AOA\n",
    "    - 29.45 Newtons\n"
   ]
  }
 ],
 "metadata": {
  "kernelspec": {
   "display_name": "Python 3",
   "language": "python",
   "name": "python3"
  },
  "language_info": {
   "codemirror_mode": {
    "name": "ipython",
    "version": 3
   },
   "file_extension": ".py",
   "mimetype": "text/x-python",
   "name": "python",
   "nbconvert_exporter": "python",
   "pygments_lexer": "ipython3",
   "version": "3.11.4"
  }
 },
 "nbformat": 4,
 "nbformat_minor": 2
}
